{
 "cells": [
  {
   "cell_type": "code",
   "execution_count": 14,
   "metadata": {},
   "outputs": [],
   "source": [
    "import json"
   ]
  },
  {
   "cell_type": "code",
   "execution_count": 15,
   "metadata": {},
   "outputs": [
    {
     "data": {
      "text/plain": [
       "[{'transaction_id': 'T123456',\n",
       "  'timestamp': '2024-01-15T14:30:00',\n",
       "  'customer': {'id': 'CUS123',\n",
       "   'region': 'North',\n",
       "   'segment': 'Premium',\n",
       "   'join_date': '2023-01-01'},\n",
       "  'items': [{'product_id': 'P789',\n",
       "    'category': 'Electronics',\n",
       "    'subcategory': 'Smartphones',\n",
       "    'price': 499.99,\n",
       "    'quantity': 1,\n",
       "    'discount': 0.0},\n",
       "   {'product_id': 'P456',\n",
       "    'category': 'Accessories',\n",
       "    'subcategory': 'Phone Cases',\n",
       "    'price': 29.99,\n",
       "    'quantity': 2,\n",
       "    'discount': 5.0}],\n",
       "  'payment_method': 'credit_card',\n",
       "  'status': 'completed',\n",
       "  'shipping': {'method': 'express',\n",
       "   'cost': 15.99,\n",
       "   'address': {'city': 'Boston', 'state': 'MA', 'country': 'USA'}}},\n",
       " {'transaction_id': 'T123457',\n",
       "  'timestamp': '2024-01-15T14:45:00',\n",
       "  'customer': {'id': 'CUS456',\n",
       "   'region': 'South',\n",
       "   'segment': 'Standard',\n",
       "   'join_date': '2023-06-15'},\n",
       "  'items': [{'product_id': 'P234',\n",
       "    'category': 'Books',\n",
       "    'subcategory': 'Fiction',\n",
       "    'price': 24.99,\n",
       "    'quantity': 3,\n",
       "    'discount': 10.0}],\n",
       "  'payment_method': 'paypal',\n",
       "  'status': 'completed',\n",
       "  'shipping': {'method': 'standard',\n",
       "   'cost': 5.99,\n",
       "   'address': {'city': 'Miami', 'state': 'FL', 'country': 'USA'}}},\n",
       " {'transaction_id': 'T123458',\n",
       "  'timestamp': '2024-01-15T15:00:00',\n",
       "  'customer': {'id': 'CUS789',\n",
       "   'region': 'West',\n",
       "   'segment': 'Premium',\n",
       "   'join_date': '2022-03-20'},\n",
       "  'items': [{'product_id': 'P789',\n",
       "    'category': 'Electronics',\n",
       "    'subcategory': 'Smartphones',\n",
       "    'price': 499.99,\n",
       "    'quantity': 1,\n",
       "    'discount': 50.0},\n",
       "   {'product_id': 'P555',\n",
       "    'category': 'Electronics',\n",
       "    'subcategory': 'Tablets',\n",
       "    'price': 299.99,\n",
       "    'quantity': 1,\n",
       "    'discount': 0.0},\n",
       "   {'product_id': 'P777',\n",
       "    'category': 'Electronics',\n",
       "    'subcategory': 'Headphones',\n",
       "    'price': 199.99,\n",
       "    'quantity': 2,\n",
       "    'discount': 25.0}],\n",
       "  'payment_method': 'credit_card',\n",
       "  'status': 'pending',\n",
       "  'shipping': {'method': 'express',\n",
       "   'cost': 25.99,\n",
       "   'address': {'city': 'Los Angeles', 'state': 'CA', 'country': 'USA'}}},\n",
       " {'transaction_id': 'T123459',\n",
       "  'timestamp': '2024-01-15T15:15:00',\n",
       "  'customer': {'id': 'CUS101',\n",
       "   'region': 'East',\n",
       "   'segment': 'Standard',\n",
       "   'join_date': '2024-01-01'},\n",
       "  'items': [{'product_id': 'P333',\n",
       "    'category': 'Clothing',\n",
       "    'subcategory': 'Shirts',\n",
       "    'price': 39.99,\n",
       "    'quantity': 2,\n",
       "    'discount': 15.0},\n",
       "   {'product_id': 'P444',\n",
       "    'category': 'Clothing',\n",
       "    'subcategory': 'Pants',\n",
       "    'price': 59.99,\n",
       "    'quantity': 1,\n",
       "    'discount': 0.0}],\n",
       "  'payment_method': 'debit_card',\n",
       "  'status': 'completed',\n",
       "  'shipping': {'method': 'standard',\n",
       "   'cost': 7.99,\n",
       "   'address': {'city': 'New York', 'state': 'NY', 'country': 'USA'}}},\n",
       " {'transaction_id': 'T123460',\n",
       "  'timestamp': '2024-01-15T15:30:00',\n",
       "  'customer': {'id': 'CUS202',\n",
       "   'region': 'North',\n",
       "   'segment': 'Premium',\n",
       "   'join_date': '2023-08-15'},\n",
       "  'items': [{'product_id': 'P888',\n",
       "    'category': 'Home',\n",
       "    'subcategory': 'Kitchen',\n",
       "    'price': 199.99,\n",
       "    'quantity': 1,\n",
       "    'discount': 20.0}],\n",
       "  'payment_method': 'gift_card',\n",
       "  'status': 'cancelled',\n",
       "  'shipping': {'method': 'standard',\n",
       "   'cost': 9.99,\n",
       "   'address': {'city': 'Chicago', 'state': 'IL', 'country': 'USA'}}}]"
      ]
     },
     "execution_count": 15,
     "metadata": {},
     "output_type": "execute_result"
    }
   ],
   "source": [
    "json_file = json.load(open('sample-dataset-3.json'))\n",
    "json_file"
   ]
  },
  {
   "cell_type": "code",
   "execution_count": 23,
   "metadata": {},
   "outputs": [
    {
     "name": "stdout",
     "output_type": "stream",
     "text": [
      "Total Transaction is : 2049.86\n",
      "\n",
      "Unique Product Categories :\n",
      "{'Clothing', 'Books', 'Home', 'Electronics'}\n"
     ]
    }
   ],
   "source": [
    "def transform_data(json_file):\n",
    "\n",
    "    total_transaction=0\n",
    "    for transaction in json_file:\n",
    "        for item in transaction['items']:\n",
    "            total_transaction += (item['price']*item['quantity'])-item['discount']\n",
    "    print(f'Total Transaction is : {total_transaction}')\n",
    "\n",
    "    def temp_func(x):\n",
    "        for item in x['items']:\n",
    "            return item['category']\n",
    "    print(\"\\nUnique Product Categories :\")\n",
    "    print(set(map(temp_func,json_file)))\n",
    "\n",
    "transform_data(json_file)"
   ]
  },
  {
   "cell_type": "code",
   "execution_count": 44,
   "metadata": {},
   "outputs": [
    {
     "name": "stdout",
     "output_type": "stream",
     "text": [
      "Grouped transactions by region and calculated regional sales :\n",
      "{'North': 234.97, 'South': 64.97, 'West': 374.98, 'East': 59.99}\n",
      "\n",
      "Top-selling products:\n",
      "['P234', 'P789', 'P456', 'P777', 'P333', 'P555', 'P444', 'P888']\n",
      "\n",
      "Transactions per Payment Type\n",
      "{'credit_card': 1179.94, 'paypal': 64.97, 'debit_card': 59.99, 'gift_card': 179.99}\n"
     ]
    }
   ],
   "source": [
    "def analysis_data(json_file):\n",
    "    regional_dict = {}\n",
    "    for transaction in json_file:\n",
    "        region = transaction['customer']['region']\n",
    "        if transaction['customer']['region'] in regional_dict.keys():\n",
    "            for item in transaction['items']:\n",
    "                regional_dict[region] += (item['price']*item['quantity'])-item['discount']\n",
    "        else:\n",
    "            for item in transaction['items']:\n",
    "                regional_dict[region] = (item['price']*item['quantity'])-item['discount']\n",
    "    print (\"Grouped transactions by region and calculated regional sales :\")\n",
    "    print(regional_dict)\n",
    "\n",
    "\n",
    "    dict_of_products = {}\n",
    "    for transaction in json_file:\n",
    "        for item in transaction['items']:\n",
    "            product_name=item['product_id']\n",
    "            if product_name in dict_of_products.keys():\n",
    "                dict_of_products[product_name] += item['quantity']\n",
    "            else:\n",
    "                dict_of_products[product_name] = item['quantity']\n",
    "\n",
    "    list_of_products= list(dict_of_products.keys())\n",
    "    list_of_products= sorted(list_of_products,key = lambda x : dict_of_products[x], reverse=True)\n",
    "    #print(dict_of_products)\n",
    "    print(\"\\nTop-selling products:\")\n",
    "    print(list_of_products)\n",
    "\n",
    "    dict_of_transaction ={}\n",
    "    for transaction in json_file:\n",
    "        payment=transaction['payment_method']\n",
    "        if payment in dict_of_transaction.keys():\n",
    "            for item in transaction['items']:\n",
    "                dict_of_transaction[payment] += ((item['price']*item['quantity'])-item['discount'])\n",
    "    \n",
    "        else:\n",
    "            for item in transaction['items']:\n",
    "                dict_of_transaction[payment] = (item['price']*item['quantity'])-item['discount']\n",
    "            \n",
    "    print(\"\\nTransactions per Payment Type\")\n",
    "    print(dict_of_transaction)\n",
    "            \n",
    "analysis_data(json_file)"
   ]
  },
  {
   "cell_type": "code",
   "execution_count": 53,
   "metadata": {},
   "outputs": [
    {
     "name": "stdout",
     "output_type": "stream",
     "text": [
      "Filters completed transactions :\n",
      "\n",
      "[{'transaction_id': 'T123456', 'timestamp': '2024-01-15T14:30:00', 'customer': {'id': 'CUS123', 'region': 'North', 'segment': 'Premium', 'join_date': '2023-01-01'}, 'items': [{'product_id': 'P789', 'category': 'Electronics', 'subcategory': 'Smartphones', 'price': 499.99, 'quantity': 1, 'discount': 0.0}, {'product_id': 'P456', 'category': 'Accessories', 'subcategory': 'Phone Cases', 'price': 29.99, 'quantity': 2, 'discount': 5.0}], 'payment_method': 'credit_card', 'status': 'completed', 'shipping': {'method': 'express', 'cost': 15.99, 'address': {'city': 'Boston', 'state': 'MA', 'country': 'USA'}}}, {'transaction_id': 'T123457', 'timestamp': '2024-01-15T14:45:00', 'customer': {'id': 'CUS456', 'region': 'South', 'segment': 'Standard', 'join_date': '2023-06-15'}, 'items': [{'product_id': 'P234', 'category': 'Books', 'subcategory': 'Fiction', 'price': 24.99, 'quantity': 3, 'discount': 10.0}], 'payment_method': 'paypal', 'status': 'completed', 'shipping': {'method': 'standard', 'cost': 5.99, 'address': {'city': 'Miami', 'state': 'FL', 'country': 'USA'}}}, {'transaction_id': 'T123459', 'timestamp': '2024-01-15T15:15:00', 'customer': {'id': 'CUS101', 'region': 'East', 'segment': 'Standard', 'join_date': '2024-01-01'}, 'items': [{'product_id': 'P333', 'category': 'Clothing', 'subcategory': 'Shirts', 'price': 39.99, 'quantity': 2, 'discount': 15.0}, {'product_id': 'P444', 'category': 'Clothing', 'subcategory': 'Pants', 'price': 59.99, 'quantity': 1, 'discount': 0.0}], 'payment_method': 'debit_card', 'status': 'completed', 'shipping': {'method': 'standard', 'cost': 7.99, 'address': {'city': 'New York', 'state': 'NY', 'country': 'USA'}}}]\n",
      "\n",
      "Sorted\n",
      "\n",
      "[{'transaction_id': 'T123456', 'timestamp': '2024-01-15T14:30:00', 'customer': {'id': 'CUS123', 'region': 'North', 'segment': 'Premium', 'join_date': '2023-01-01'}, 'items': [{'product_id': 'P789', 'category': 'Electronics', 'subcategory': 'Smartphones', 'price': 499.99, 'quantity': 1, 'discount': 0.0}, {'product_id': 'P456', 'category': 'Accessories', 'subcategory': 'Phone Cases', 'price': 29.99, 'quantity': 2, 'discount': 5.0}], 'payment_method': 'credit_card', 'status': 'completed', 'shipping': {'method': 'express', 'cost': 15.99, 'address': {'city': 'Boston', 'state': 'MA', 'country': 'USA'}}}, {'transaction_id': 'T123457', 'timestamp': '2024-01-15T14:45:00', 'customer': {'id': 'CUS456', 'region': 'South', 'segment': 'Standard', 'join_date': '2023-06-15'}, 'items': [{'product_id': 'P234', 'category': 'Books', 'subcategory': 'Fiction', 'price': 24.99, 'quantity': 3, 'discount': 10.0}], 'payment_method': 'paypal', 'status': 'completed', 'shipping': {'method': 'standard', 'cost': 5.99, 'address': {'city': 'Miami', 'state': 'FL', 'country': 'USA'}}}, {'transaction_id': 'T123458', 'timestamp': '2024-01-15T15:00:00', 'customer': {'id': 'CUS789', 'region': 'West', 'segment': 'Premium', 'join_date': '2022-03-20'}, 'items': [{'product_id': 'P789', 'category': 'Electronics', 'subcategory': 'Smartphones', 'price': 499.99, 'quantity': 1, 'discount': 50.0}, {'product_id': 'P555', 'category': 'Electronics', 'subcategory': 'Tablets', 'price': 299.99, 'quantity': 1, 'discount': 0.0}, {'product_id': 'P777', 'category': 'Electronics', 'subcategory': 'Headphones', 'price': 199.99, 'quantity': 2, 'discount': 25.0}], 'payment_method': 'credit_card', 'status': 'pending', 'shipping': {'method': 'express', 'cost': 25.99, 'address': {'city': 'Los Angeles', 'state': 'CA', 'country': 'USA'}}}, {'transaction_id': 'T123459', 'timestamp': '2024-01-15T15:15:00', 'customer': {'id': 'CUS101', 'region': 'East', 'segment': 'Standard', 'join_date': '2024-01-01'}, 'items': [{'product_id': 'P333', 'category': 'Clothing', 'subcategory': 'Shirts', 'price': 39.99, 'quantity': 2, 'discount': 15.0}, {'product_id': 'P444', 'category': 'Clothing', 'subcategory': 'Pants', 'price': 59.99, 'quantity': 1, 'discount': 0.0}], 'payment_method': 'debit_card', 'status': 'completed', 'shipping': {'method': 'standard', 'cost': 7.99, 'address': {'city': 'New York', 'state': 'NY', 'country': 'USA'}}}, {'transaction_id': 'T123460', 'timestamp': '2024-01-15T15:30:00', 'customer': {'id': 'CUS202', 'region': 'North', 'segment': 'Premium', 'join_date': '2023-08-15'}, 'items': [{'product_id': 'P888', 'category': 'Home', 'subcategory': 'Kitchen', 'price': 199.99, 'quantity': 1, 'discount': 20.0}], 'payment_method': 'gift_card', 'status': 'cancelled', 'shipping': {'method': 'standard', 'cost': 9.99, 'address': {'city': 'Chicago', 'state': 'IL', 'country': 'USA'}}}]\n"
     ]
    }
   ],
   "source": [
    "def report_generation(json_file,sort_key='timestamp'):\n",
    "\n",
    "    filtered = list(filter(lambda x : x['status'] == 'completed', json_file))\n",
    "    print(\"Filters completed transactions :\\n\")\n",
    "    print(filtered)\n",
    "\n",
    "    sorted_json=sorted(json_file,key=lambda x : x[sort_key])\n",
    "    print(\"\\nSorted\\n\")\n",
    "    print(sorted_json)\n",
    "\n",
    "report_generation(json_file)"
   ]
  }
 ],
 "metadata": {
  "kernelspec": {
   "display_name": "Python 3",
   "language": "python",
   "name": "python3"
  },
  "language_info": {
   "codemirror_mode": {
    "name": "ipython",
    "version": 3
   },
   "file_extension": ".py",
   "mimetype": "text/x-python",
   "name": "python",
   "nbconvert_exporter": "python",
   "pygments_lexer": "ipython3",
   "version": "3.10.4"
  }
 },
 "nbformat": 4,
 "nbformat_minor": 2
}
