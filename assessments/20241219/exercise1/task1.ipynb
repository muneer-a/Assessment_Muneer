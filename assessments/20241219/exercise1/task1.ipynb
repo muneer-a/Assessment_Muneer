{
 "cells": [
  {
   "cell_type": "code",
   "execution_count": 1,
   "metadata": {},
   "outputs": [],
   "source": [
    "import json"
   ]
  },
  {
   "cell_type": "code",
   "execution_count": 2,
   "metadata": {},
   "outputs": [],
   "source": [
    "json_file=json.load(open('sample-dataset-1.json'))"
   ]
  },
  {
   "cell_type": "code",
   "execution_count": 3,
   "metadata": {},
   "outputs": [
    {
     "data": {
      "text/plain": [
       "[{'timestamp': '2024-01-15T10:30:00',\n",
       "  'server_id': 'srv-001',\n",
       "  'event_type': 'performance',\n",
       "  'metrics': {'cpu_usage': 85.5, 'memory_usage': 90.2, 'disk_usage': 72.8},\n",
       "  'status': 'warning',\n",
       "  'priority': 'high',\n",
       "  'message': 'High CPU utilization detected'},\n",
       " {'timestamp': '2024-01-15T10:31:00',\n",
       "  'server_id': 'srv-002',\n",
       "  'event_type': 'security',\n",
       "  'metrics': {'cpu_usage': 45.2, 'memory_usage': 60.8, 'disk_usage': 55.3},\n",
       "  'status': 'critical',\n",
       "  'priority': 'high',\n",
       "  'message': 'Failed login attempts exceeded threshold'},\n",
       " {'timestamp': '2024-01-15T10:32:00',\n",
       "  'server_id': 'srv-001',\n",
       "  'event_type': 'performance',\n",
       "  'metrics': {'cpu_usage': 92.3, 'memory_usage': 95.5, 'disk_usage': 75.0},\n",
       "  'status': 'critical',\n",
       "  'priority': 'high',\n",
       "  'message': 'System resources near exhaustion'},\n",
       " {'timestamp': '2024-01-15T10:33:00',\n",
       "  'server_id': 'srv-003',\n",
       "  'event_type': 'application',\n",
       "  'metrics': {'cpu_usage': 55.5, 'memory_usage': 45.2, 'disk_usage': 68.4},\n",
       "  'status': 'info',\n",
       "  'priority': 'low',\n",
       "  'message': 'Application deployment completed'},\n",
       " {'timestamp': '2024-01-15T10:34:00',\n",
       "  'server_id': 'srv-002',\n",
       "  'event_type': 'network',\n",
       "  'metrics': {'cpu_usage': 78.4, 'memory_usage': 82.3, 'disk_usage': 60.1},\n",
       "  'status': 'warning',\n",
       "  'priority': 'medium',\n",
       "  'message': 'Network latency increased'},\n",
       " {'timestamp': '2024-01-15T10:35:00',\n",
       "  'server_id': 'srv-004',\n",
       "  'event_type': 'performance',\n",
       "  'metrics': {'cpu_usage': 88.7, 'memory_usage': 75.6, 'disk_usage': 91.2},\n",
       "  'status': 'warning',\n",
       "  'priority': 'high',\n",
       "  'message': 'Disk usage approaching capacity'},\n",
       " {'timestamp': '2024-01-15T10:36:00',\n",
       "  'server_id': 'srv-001',\n",
       "  'event_type': 'security',\n",
       "  'metrics': {'cpu_usage': 65.4, 'memory_usage': 70.2, 'disk_usage': 73.8},\n",
       "  'status': 'warning',\n",
       "  'priority': 'medium',\n",
       "  'message': 'SSL certificate expiring soon'},\n",
       " {'timestamp': '2024-01-15T10:37:00',\n",
       "  'server_id': 'srv-003',\n",
       "  'event_type': 'database',\n",
       "  'metrics': {'cpu_usage': 82.6, 'memory_usage': 88.9, 'disk_usage': 65.7},\n",
       "  'status': 'critical',\n",
       "  'priority': 'high',\n",
       "  'message': 'Database connection pool exhausted'}]"
      ]
     },
     "execution_count": 3,
     "metadata": {},
     "output_type": "execute_result"
    }
   ],
   "source": [
    "json_file"
   ]
  },
  {
   "cell_type": "code",
   "execution_count": 4,
   "metadata": {},
   "outputs": [
    {
     "name": "stdout",
     "output_type": "stream",
     "text": [
      "High Priority Logs : \n",
      "[{'timestamp': '2024-01-15T10:30:00', 'server_id': 'srv-001', 'event_type': 'performance', 'metrics': {'cpu_usage': 85.5, 'memory_usage': 90.2, 'disk_usage': 72.8}, 'status': 'warning', 'priority': 'high', 'message': 'High CPU utilization detected'}, {'timestamp': '2024-01-15T10:31:00', 'server_id': 'srv-002', 'event_type': 'security', 'metrics': {'cpu_usage': 45.2, 'memory_usage': 60.8, 'disk_usage': 55.3}, 'status': 'critical', 'priority': 'high', 'message': 'Failed login attempts exceeded threshold'}, {'timestamp': '2024-01-15T10:32:00', 'server_id': 'srv-001', 'event_type': 'performance', 'metrics': {'cpu_usage': 92.3, 'memory_usage': 95.5, 'disk_usage': 75.0}, 'status': 'critical', 'priority': 'high', 'message': 'System resources near exhaustion'}, {'timestamp': '2024-01-15T10:35:00', 'server_id': 'srv-004', 'event_type': 'performance', 'metrics': {'cpu_usage': 88.7, 'memory_usage': 75.6, 'disk_usage': 91.2}, 'status': 'warning', 'priority': 'high', 'message': 'Disk usage approaching capacity'}, {'timestamp': '2024-01-15T10:37:00', 'server_id': 'srv-003', 'event_type': 'database', 'metrics': {'cpu_usage': 82.6, 'memory_usage': 88.9, 'disk_usage': 65.7}, 'status': 'critical', 'priority': 'high', 'message': 'Database connection pool exhausted'}]\n",
      "\n",
      " Servers greater than 80 : \n",
      "\n",
      "['srv-001', 'srv-001', 'srv-004', 'srv-003']\n"
     ]
    }
   ],
   "source": [
    "def filter_log_entries(json_file):\n",
    "    high_priority_logs = list(filter(lambda x : x['priority'] == 'high', json_file))\n",
    "    servers_grt_than_80 = [event['server_id'] for event in json_file if event['metrics']['cpu_usage']>80 ]\n",
    "    return high_priority_logs,servers_grt_than_80\n",
    "\n",
    "a,b = filter_log_entries(json_file)\n",
    "print(\"High Priority Logs : \")\n",
    "print(a)\n",
    "print(\"\\n Servers greater than 80 : \\n\")\n",
    "print(b)\n"
   ]
  },
  {
   "cell_type": "code",
   "execution_count": 5,
   "metadata": {},
   "outputs": [
    {
     "data": {
      "text/plain": [
       "{'srv-001', 'srv-002', 'srv-003', 'srv-004'}"
      ]
     },
     "execution_count": 5,
     "metadata": {},
     "output_type": "execute_result"
    }
   ],
   "source": [
    "def extract_unique_serverids(json_file):    \n",
    "    return set(map(lambda x : x[\"server_id\"],json_file))\n",
    "    \n",
    "extract_unique_serverids(json_file)"
   ]
  },
  {
   "cell_type": "code",
   "execution_count": 6,
   "metadata": {},
   "outputs": [
    {
     "data": {
      "text/plain": [
       "[{'timestamp': '2024-01-15T10:30:00',\n",
       "  'server_id': 'srv-001',\n",
       "  'event_type': 'performance',\n",
       "  'metrics': {'cpu_usage': 85.5, 'memory_usage': 90.2, 'disk_usage': 72.8},\n",
       "  'status': 'warning',\n",
       "  'priority': 'high',\n",
       "  'message': 'High CPU utilization detected'},\n",
       " {'timestamp': '2024-01-15T10:31:00',\n",
       "  'server_id': 'srv-002',\n",
       "  'event_type': 'security',\n",
       "  'metrics': {'cpu_usage': 45.2, 'memory_usage': 60.8, 'disk_usage': 55.3},\n",
       "  'status': 'critical',\n",
       "  'priority': 'high',\n",
       "  'message': 'Failed login attempts exceeded threshold'},\n",
       " {'timestamp': '2024-01-15T10:32:00',\n",
       "  'server_id': 'srv-001',\n",
       "  'event_type': 'performance',\n",
       "  'metrics': {'cpu_usage': 92.3, 'memory_usage': 95.5, 'disk_usage': 75.0},\n",
       "  'status': 'critical',\n",
       "  'priority': 'high',\n",
       "  'message': 'System resources near exhaustion'},\n",
       " {'timestamp': '2024-01-15T10:33:00',\n",
       "  'server_id': 'srv-003',\n",
       "  'event_type': 'application',\n",
       "  'metrics': {'cpu_usage': 55.5, 'memory_usage': 45.2, 'disk_usage': 68.4},\n",
       "  'status': 'info',\n",
       "  'priority': 'low',\n",
       "  'message': 'Application deployment completed'},\n",
       " {'timestamp': '2024-01-15T10:34:00',\n",
       "  'server_id': 'srv-002',\n",
       "  'event_type': 'network',\n",
       "  'metrics': {'cpu_usage': 78.4, 'memory_usage': 82.3, 'disk_usage': 60.1},\n",
       "  'status': 'warning',\n",
       "  'priority': 'medium',\n",
       "  'message': 'Network latency increased'},\n",
       " {'timestamp': '2024-01-15T10:35:00',\n",
       "  'server_id': 'srv-004',\n",
       "  'event_type': 'performance',\n",
       "  'metrics': {'cpu_usage': 88.7, 'memory_usage': 75.6, 'disk_usage': 91.2},\n",
       "  'status': 'warning',\n",
       "  'priority': 'high',\n",
       "  'message': 'Disk usage approaching capacity'},\n",
       " {'timestamp': '2024-01-15T10:36:00',\n",
       "  'server_id': 'srv-001',\n",
       "  'event_type': 'security',\n",
       "  'metrics': {'cpu_usage': 65.4, 'memory_usage': 70.2, 'disk_usage': 73.8},\n",
       "  'status': 'warning',\n",
       "  'priority': 'medium',\n",
       "  'message': 'SSL certificate expiring soon'},\n",
       " {'timestamp': '2024-01-15T10:37:00',\n",
       "  'server_id': 'srv-003',\n",
       "  'event_type': 'database',\n",
       "  'metrics': {'cpu_usage': 82.6, 'memory_usage': 88.9, 'disk_usage': 65.7},\n",
       "  'status': 'critical',\n",
       "  'priority': 'high',\n",
       "  'message': 'Database connection pool exhausted'}]"
      ]
     },
     "execution_count": 6,
     "metadata": {},
     "output_type": "execute_result"
    }
   ],
   "source": [
    "def sort_log_entries(json_file):\n",
    "    priority_dict = {'high' :1, 'medium': 2, 'low' :3}\n",
    "    return sorted(json_file, key = lambda x : (x['timestamp'],priority_dict[x['priority']]))\n",
    "\n",
    "sort_log_entries(json_file)\n"
   ]
  },
  {
   "cell_type": "code",
   "execution_count": 7,
   "metadata": {},
   "outputs": [],
   "source": [
    "def summary_report(json_file):\n",
    "    high,med,low =0,0,0\n",
    "    for event in json_file:\n",
    "        if event['priority'] == 'high':\n",
    "            high+=1\n",
    "        elif event['priority'] == 'medium':\n",
    "            med+=1\n",
    "        elif event['priority'] == 'low':\n",
    "            low+=1\n",
    "\n",
    "    print(f\"Counts based on Priority \\n High = {high}, Medium = {med}, Low = {low}\")\n",
    "\n",
    "    print(f\"\\n Unique event Types are :\")\n",
    "    unique_events= set(map(lambda x : x[\"event_type\"],json_file))\n",
    "    print(unique_events)\n",
    "\n",
    "    print(\"\\nAverage CPU usage across all servers :\")\n",
    "    \n",
    "    cpu_usage_list = [event['metrics']['cpu_usage'] for event in json_file]\n",
    "    average = sum(cpu_usage_list)/len(cpu_usage_list)\n",
    "    print(average)\n",
    "    "
   ]
  },
  {
   "cell_type": "code",
   "execution_count": 8,
   "metadata": {},
   "outputs": [
    {
     "name": "stdout",
     "output_type": "stream",
     "text": [
      "Counts based on Priority \n",
      " High = 5, Medium = 2, Low = 1\n",
      "\n",
      " Unique event Types are :\n",
      "{'performance', 'database', 'application', 'security', 'network'}\n",
      "\n",
      "Average CPU usage across all servers :\n",
      "74.2\n"
     ]
    }
   ],
   "source": [
    "summary_report(json_file)"
   ]
  }
 ],
 "metadata": {
  "kernelspec": {
   "display_name": "Python 3",
   "language": "python",
   "name": "python3"
  },
  "language_info": {
   "codemirror_mode": {
    "name": "ipython",
    "version": 3
   },
   "file_extension": ".py",
   "mimetype": "text/x-python",
   "name": "python",
   "nbconvert_exporter": "python",
   "pygments_lexer": "ipython3",
   "version": "3.10.4"
  }
 },
 "nbformat": 4,
 "nbformat_minor": 2
}
